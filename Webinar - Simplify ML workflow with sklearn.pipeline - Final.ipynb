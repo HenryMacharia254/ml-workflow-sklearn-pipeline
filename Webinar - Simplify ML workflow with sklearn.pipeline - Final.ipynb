{
 "cells": [
  {
   "cell_type": "markdown",
   "metadata": {
    "slideshow": {
     "slide_type": "slide"
    }
   },
   "source": [
    "# How to Simplify Machine Learning Workflow with scikit-learn Pipeline\n",
    "\n",
    "**Present to you by:** Siraprapa Watakit, Data Scientist, DACoE Asia\n",
    "<br>**Duration** : 1 Hour\n",
    "\n",
    "**Objective:** <font color=turguise> **Zero** to **Hero** Machine Learning with scikit-learn Pipeline.</font>\n",
    "\n",
    "**Prerequisite:**  \n",
    "- Basic python programming. \n",
    "- Basic understanding scikit-learn Estimator,Transformer API.\n",
    "- Basic knowledge in machine learning workflow\n",
    "\n",
    "<font color=darkred>  **Bonus:** lots of examples, and give aways functions and transformers. </font>\n",
    "\n",
    "<i>This notebook is powered by <b>RISE</b>, best viewed in Slideshow mode</i>"
   ]
  },
  {
   "cell_type": "markdown",
   "metadata": {
    "slideshow": {
     "slide_type": "slide"
    }
   },
   "source": [
    "**Agenda**\n",
    " - Background and Reviews : machine learning workflows, sklearn  Estimator,Transformer API.\n",
    " - Basic : Build a model with and without sklearn.Pipeline\n",
    " - Intermediate : Build your own Customer Transformer and Model Wrapper\n",
    "\n",
    "**References**\n",
    " - Python Data Science Handbook\n",
    " - Kaggle competitor : Zac Stewart\n",
    " - PyData Conferences : **Julie Michelman** ,Kevin Goetsch\n",
    " - PyCon Conferences : **Kevin Markham**"
   ]
  },
  {
   "cell_type": "markdown",
   "metadata": {
    "slideshow": {
     "slide_type": "slide"
    }
   },
   "source": [
    "# Background and Reviews\n",
    "\n",
    "<img src=\"./images/ml_workflow.png\" >\n",
    "\n"
   ]
  },
  {
   "cell_type": "markdown",
   "metadata": {
    "slideshow": {
     "slide_type": "slide"
    }
   },
   "source": [
    "# Data\n",
    "\n",
    " - <code>numpy </code> : a 1D or 2D numeric arrays, accessible via slicing notation eg. <code>X[<i>start:stop:step</i>]</code> where start:stop:step are positional integer\n",
    " - <code>pandas</code> : a Dataframe with row & column labeled, can be accessed via slicing notation as well as column names <br> e.g. <code> house_data.loc[:10,['GrLivArea','YearBuilt','SalePrice']]</code>\n",
    "\n",
    "\n",
    "# Preprocessing with Scikit-Learn’s Transformer API\n",
    "1. instantiate a <code>transformer</code> object\n",
    "2. <code>.fit</code> the <code>transformer</code> with train data\n",
    "3. <code>.transform</code> on both training and test data\n",
    "\n",
    "# Modeling with Scikit-Learn’s Estimator API\n",
    "1. instantiate a <code>estimator</code> object\n",
    "2. <code>.fit</code> the <code>estimator</code> with training data\n",
    "3. Supervised vs. Unsupervised\n",
    "    - Supervised <code>.predict</code> on test data\n",
    "    - Unsupervised <code>.transform</code> on test data\n"
   ]
  },
  {
   "cell_type": "markdown",
   "metadata": {
    "slideshow": {
     "slide_type": "slide"
    }
   },
   "source": [
    "# What happen when we invoke <code>.fit, .transform, .predict</code>\n",
    "<br>\n",
    "<img src=\"./images/fit_transform_predict.png\" >\n",
    "\n",
    "\n",
    "### <font color=darkred>  This is important, you need to understand it,<br> if you are to create your own Custom Transformer..</font>\n"
   ]
  },
  {
   "cell_type": "markdown",
   "metadata": {
    "slideshow": {
     "slide_type": "slide"
    }
   },
   "source": [
    "## Example#1: Simple preprocessing and modeling\n",
    "\n",
    "Data : House Price(<a href=\"https://www.kaggle.com/c/house-prices-advanced-regression-techniques/data\">Kaggle</a>) \n"
   ]
  },
  {
   "cell_type": "code",
   "execution_count": 44,
   "metadata": {
    "slideshow": {
     "slide_type": "fragment"
    }
   },
   "outputs": [
    {
     "data": {
      "text/html": [
       "<div>\n",
       "<style scoped>\n",
       "    .dataframe tbody tr th:only-of-type {\n",
       "        vertical-align: middle;\n",
       "    }\n",
       "\n",
       "    .dataframe tbody tr th {\n",
       "        vertical-align: top;\n",
       "    }\n",
       "\n",
       "    .dataframe thead th {\n",
       "        text-align: right;\n",
       "    }\n",
       "</style>\n",
       "<table border=\"1\" class=\"dataframe\">\n",
       "  <thead>\n",
       "    <tr style=\"text-align: right;\">\n",
       "      <th></th>\n",
       "      <th>Id</th>\n",
       "      <th>MSSubClass</th>\n",
       "      <th>MSZoning</th>\n",
       "      <th>LotFrontage</th>\n",
       "      <th>LotArea</th>\n",
       "      <th>Street</th>\n",
       "      <th>Alley</th>\n",
       "      <th>LotShape</th>\n",
       "      <th>LandContour</th>\n",
       "      <th>Utilities</th>\n",
       "      <th>...</th>\n",
       "      <th>PoolArea</th>\n",
       "      <th>PoolQC</th>\n",
       "      <th>Fence</th>\n",
       "      <th>MiscFeature</th>\n",
       "      <th>MiscVal</th>\n",
       "      <th>MoSold</th>\n",
       "      <th>YrSold</th>\n",
       "      <th>SaleType</th>\n",
       "      <th>SaleCondition</th>\n",
       "      <th>SalePrice</th>\n",
       "    </tr>\n",
       "  </thead>\n",
       "  <tbody>\n",
       "    <tr>\n",
       "      <th>0</th>\n",
       "      <td>1</td>\n",
       "      <td>60</td>\n",
       "      <td>RL</td>\n",
       "      <td>65.0</td>\n",
       "      <td>8450</td>\n",
       "      <td>Pave</td>\n",
       "      <td>NaN</td>\n",
       "      <td>Reg</td>\n",
       "      <td>Lvl</td>\n",
       "      <td>AllPub</td>\n",
       "      <td>...</td>\n",
       "      <td>0</td>\n",
       "      <td>NaN</td>\n",
       "      <td>NaN</td>\n",
       "      <td>NaN</td>\n",
       "      <td>0</td>\n",
       "      <td>2</td>\n",
       "      <td>2008</td>\n",
       "      <td>WD</td>\n",
       "      <td>Normal</td>\n",
       "      <td>208500</td>\n",
       "    </tr>\n",
       "    <tr>\n",
       "      <th>1</th>\n",
       "      <td>2</td>\n",
       "      <td>20</td>\n",
       "      <td>RL</td>\n",
       "      <td>80.0</td>\n",
       "      <td>9600</td>\n",
       "      <td>Pave</td>\n",
       "      <td>NaN</td>\n",
       "      <td>Reg</td>\n",
       "      <td>Lvl</td>\n",
       "      <td>AllPub</td>\n",
       "      <td>...</td>\n",
       "      <td>0</td>\n",
       "      <td>NaN</td>\n",
       "      <td>NaN</td>\n",
       "      <td>NaN</td>\n",
       "      <td>0</td>\n",
       "      <td>5</td>\n",
       "      <td>2007</td>\n",
       "      <td>WD</td>\n",
       "      <td>Normal</td>\n",
       "      <td>181500</td>\n",
       "    </tr>\n",
       "    <tr>\n",
       "      <th>2</th>\n",
       "      <td>3</td>\n",
       "      <td>60</td>\n",
       "      <td>RL</td>\n",
       "      <td>68.0</td>\n",
       "      <td>11250</td>\n",
       "      <td>Pave</td>\n",
       "      <td>NaN</td>\n",
       "      <td>IR1</td>\n",
       "      <td>Lvl</td>\n",
       "      <td>AllPub</td>\n",
       "      <td>...</td>\n",
       "      <td>0</td>\n",
       "      <td>NaN</td>\n",
       "      <td>NaN</td>\n",
       "      <td>NaN</td>\n",
       "      <td>0</td>\n",
       "      <td>9</td>\n",
       "      <td>2008</td>\n",
       "      <td>WD</td>\n",
       "      <td>Normal</td>\n",
       "      <td>223500</td>\n",
       "    </tr>\n",
       "  </tbody>\n",
       "</table>\n",
       "<p>3 rows × 81 columns</p>\n",
       "</div>"
      ],
      "text/plain": [
       "   Id  MSSubClass MSZoning  LotFrontage  LotArea Street Alley LotShape  \\\n",
       "0   1          60       RL         65.0     8450   Pave   NaN      Reg   \n",
       "1   2          20       RL         80.0     9600   Pave   NaN      Reg   \n",
       "2   3          60       RL         68.0    11250   Pave   NaN      IR1   \n",
       "\n",
       "  LandContour Utilities    ...     PoolArea PoolQC Fence MiscFeature MiscVal  \\\n",
       "0         Lvl    AllPub    ...            0    NaN   NaN         NaN       0   \n",
       "1         Lvl    AllPub    ...            0    NaN   NaN         NaN       0   \n",
       "2         Lvl    AllPub    ...            0    NaN   NaN         NaN       0   \n",
       "\n",
       "  MoSold YrSold  SaleType  SaleCondition  SalePrice  \n",
       "0      2   2008        WD         Normal     208500  \n",
       "1      5   2007        WD         Normal     181500  \n",
       "2      9   2008        WD         Normal     223500  \n",
       "\n",
       "[3 rows x 81 columns]"
      ]
     },
     "execution_count": 44,
     "metadata": {},
     "output_type": "execute_result"
    }
   ],
   "source": [
    "import warnings\n",
    "warnings.filterwarnings('ignore')\n",
    "import pandas as pd\n",
    "import numpy as np\n",
    "\n",
    "house_data = pd.read_csv('./data/house_data.csv')\n",
    "house_data.head(3)"
   ]
  },
  {
   "cell_type": "code",
   "execution_count": 45,
   "metadata": {
    "slideshow": {
     "slide_type": "fragment"
    }
   },
   "outputs": [
    {
     "data": {
      "text/html": [
       "<div>\n",
       "<style scoped>\n",
       "    .dataframe tbody tr th:only-of-type {\n",
       "        vertical-align: middle;\n",
       "    }\n",
       "\n",
       "    .dataframe tbody tr th {\n",
       "        vertical-align: top;\n",
       "    }\n",
       "\n",
       "    .dataframe thead th {\n",
       "        text-align: right;\n",
       "    }\n",
       "</style>\n",
       "<table border=\"1\" class=\"dataframe\">\n",
       "  <thead>\n",
       "    <tr style=\"text-align: right;\">\n",
       "      <th></th>\n",
       "      <th>GrLivArea</th>\n",
       "      <th>LotArea</th>\n",
       "      <th>Street</th>\n",
       "    </tr>\n",
       "  </thead>\n",
       "  <tbody>\n",
       "    <tr>\n",
       "      <th>135</th>\n",
       "      <td>1682</td>\n",
       "      <td>10400</td>\n",
       "      <td>Pave</td>\n",
       "    </tr>\n",
       "    <tr>\n",
       "      <th>1452</th>\n",
       "      <td>1072</td>\n",
       "      <td>3675</td>\n",
       "      <td>Pave</td>\n",
       "    </tr>\n",
       "    <tr>\n",
       "      <th>762</th>\n",
       "      <td>1547</td>\n",
       "      <td>8640</td>\n",
       "      <td>Pave</td>\n",
       "    </tr>\n",
       "  </tbody>\n",
       "</table>\n",
       "</div>"
      ],
      "text/plain": [
       "      GrLivArea  LotArea Street\n",
       "135        1682    10400   Pave\n",
       "1452       1072     3675   Pave\n",
       "762        1547     8640   Pave"
      ]
     },
     "execution_count": 45,
     "metadata": {},
     "output_type": "execute_result"
    }
   ],
   "source": [
    "from sklearn.model_selection import train_test_split\n",
    "\n",
    "y = house_data['SalePrice']\n",
    "X = house_data.loc[:,['GrLivArea','LotArea','Street']]\n",
    "\n",
    "X_train, X_test, y_train, y_test = train_test_split(X, y, test_size=0.30, random_state=42)\n",
    "\n",
    "X_train.head(3)"
   ]
  },
  {
   "cell_type": "markdown",
   "metadata": {
    "slideshow": {
     "slide_type": "slide"
    }
   },
   "source": [
    "### Example #1: (1/4) Pre-process numeric features"
   ]
  },
  {
   "cell_type": "code",
   "execution_count": 46,
   "metadata": {
    "slideshow": {
     "slide_type": "fragment"
    }
   },
   "outputs": [
    {
     "name": "stdout",
     "output_type": "stream",
     "text": [
      "Scaled features:\n",
      " [[ 0.28783473 -0.03050433]\n",
      " [-0.86156463 -0.62436478]\n",
      " [ 0.03345946 -0.18592357]]\n"
     ]
    }
   ],
   "source": [
    "from sklearn.preprocessing import StandardScaler\n",
    "\n",
    "feat_num = ['GrLivArea','LotArea']\n",
    "\n",
    "std_scaler = StandardScaler()\n",
    "std_scaler.fit(X_train[feat_num])\n",
    "X_train_num_scaled = std_scaler.transform(X_train[feat_num])\n",
    "print(\"Scaled features:\\n\",X_train_num_scaled[0:3])\n"
   ]
  },
  {
   "cell_type": "markdown",
   "metadata": {
    "slideshow": {
     "slide_type": "slide"
    }
   },
   "source": [
    "### Example #1: (2/4)  Pre-process categorical features\n"
   ]
  },
  {
   "cell_type": "code",
   "execution_count": 47,
   "metadata": {
    "slideshow": {
     "slide_type": "fragment"
    }
   },
   "outputs": [
    {
     "name": "stdout",
     "output_type": "stream",
     "text": [
      "Dummified features:\n",
      " [[0. 1.]\n",
      " [0. 1.]\n",
      " [0. 1.]]\n"
     ]
    }
   ],
   "source": [
    "from sklearn.preprocessing import LabelEncoder,OneHotEncoder\n",
    "\n",
    "feat_cat = ['Street']\n",
    "\n",
    "le = LabelEncoder()\n",
    "X_train[feat_cat] = le.fit_transform(X_train[feat_cat])\n",
    "ohe = OneHotEncoder(categorical_features = [0])\n",
    "X_train_cat_ohe = ohe.fit_transform(X_train[feat_cat]).toarray()\n",
    "\n",
    "print(\"Dummified features:\\n\",X_train_cat_ohe[0:3])\n"
   ]
  },
  {
   "cell_type": "markdown",
   "metadata": {
    "slideshow": {
     "slide_type": "fragment"
    }
   },
   "source": [
    "### This is only one of many ways to to stuffs with python!\n",
    "\n",
    "Check this out : <a href=\"https://www.youtube.com/watch?v=0s_1IsROgDc\">How do I create dummy variables in pandas?</a>\n",
    "\n",
    "<font color=darkred> NOTE: sklearn library takes care of dummy variable trap; hence even if you don't drop one of the columns, it is still going to work. However we should make a habit of taking care of dummy variable trap by ourselves. Just in case you are not using sklearn for modeling</font>"
   ]
  },
  {
   "cell_type": "markdown",
   "metadata": {
    "slideshow": {
     "slide_type": "slide"
    }
   },
   "source": [
    "### Example#1: (3/4) Build a model(s)"
   ]
  },
  {
   "cell_type": "code",
   "execution_count": 48,
   "metadata": {
    "slideshow": {
     "slide_type": "fragment"
    }
   },
   "outputs": [
    {
     "name": "stdout",
     "output_type": "stream",
     "text": [
      "Processed Train Data: \n",
      " [[ 0.28783473 -0.03050433  0.          1.        ]\n",
      " [-0.86156463 -0.62436478  0.          1.        ]\n",
      " [ 0.03345946 -0.18592357  0.          1.        ]] \n",
      "\n",
      "Model #1 :  Only 2 numeric features\n",
      "Intercept: 181312.6927592955\n",
      "Coefficient: [51684.07165803  6784.0654669 ]\n",
      "\n",
      "Model #2 : 2 numeric and 1 categorical features\n",
      "Intercept: 170938.21916857865\n",
      "Coefficient: [ 51546.81052379   7140.27164994 -10456.32348098  10456.32348098]\n"
     ]
    }
   ],
   "source": [
    "from sklearn.linear_model import LinearRegression\n",
    "from sklearn.metrics import mean_squared_error\n",
    "\n",
    "X_train_processed = np.concatenate((X_train_num_scaled, X_train_cat_ohe), axis=1)\n",
    "\n",
    "print(\"Processed Train Data: \\n\",X_train_processed[0:3],\"\\n\")\n",
    "lr1 = LinearRegression()\n",
    "lr1.fit(X_train_num_scaled,y_train)\n",
    "print(\"Model #1 :  Only 2 numeric features\")\n",
    "print(\"Intercept:\", lr1.intercept_)\n",
    "print(\"Coefficient:\", lr1.coef_)\n",
    "\n",
    "lr2 = LinearRegression()\n",
    "lr2.fit(X_train_processed,y_train)\n",
    "print(\"\\nModel #2 : 2 numeric and 1 categorical features\")\n",
    "print(\"Intercept:\", lr2.intercept_)\n",
    "print(\"Coefficient:\", lr2.coef_)\n",
    "\n"
   ]
  },
  {
   "cell_type": "markdown",
   "metadata": {
    "slideshow": {
     "slide_type": "slide"
    }
   },
   "source": [
    "### Example #1: (4/4) Pre-process the test data, then test and compare the model(s)\n",
    "\n",
    "Be careful with this part..\n",
    "- Use the estimator/transformer that were fitted with the <font color=darkred>**TRAIN DATA**</font>\n",
    "    - Estomators: <code>lr1,lr2</code>\n",
    "    - Transformer: <code>std_scaler,le,ohe</code>\n",
    "    - Do not fit! - just tranform!\n",
    "- Apply estimator/transformer with the <font color=blue>**TEST DATA** </font>\n"
   ]
  },
  {
   "cell_type": "code",
   "execution_count": 49,
   "metadata": {
    "slideshow": {
     "slide_type": "fragment"
    }
   },
   "outputs": [
    {
     "name": "stdout",
     "output_type": "stream",
     "text": [
      "Processed Test Data: \n",
      " [[-0.86910167 -0.20588081  0.          1.        ]\n",
      " [ 2.05904031  0.13339233  0.          1.        ]\n",
      " [-0.94447212 -0.15766552  0.          1.        ]] \n",
      "\n",
      "Model #1 :  Only 2 numeric features\n",
      "The RMSE value is 55729.6255\n",
      "\n",
      "nModel #2 : 2 numeric and 1 categorical features\n",
      "The RMSE value is 55640.0761\n"
     ]
    }
   ],
   "source": [
    "X_test_num_scaled = std_scaler.transform(X_test[feat_num])\n",
    "X_test[feat_cat] = le.transform(X_test[feat_cat])         \n",
    "X_test_cat_ohe = ohe.transform(X_test[feat_cat]).toarray()\n",
    "X_test_processed = np.concatenate((X_test_num_scaled, X_test_cat_ohe), axis=1)\n",
    "\n",
    "print(\"Processed Test Data: \\n\",X_test_processed[0:3],\"\\n\")\n",
    "\n",
    "y_pred = lr1.predict(X_test_num_scaled)\n",
    "rmse = np.sqrt(mean_squared_error(y_test, y_pred))\n",
    "print(\"Model #1 :  Only 2 numeric features\")\n",
    "print('The RMSE value is {:.4f}'.format(rmse))\n",
    "\n",
    "y_pred = lr2.predict(X_test_processed)\n",
    "rmse = np.sqrt(mean_squared_error(y_test, y_pred))\n",
    "print(\"\\nnModel #2 : 2 numeric and 1 categorical features\")\n",
    "print('The RMSE value is {:.4f}'.format(rmse))\n"
   ]
  },
  {
   "cell_type": "markdown",
   "metadata": {
    "slideshow": {
     "slide_type": "slide"
    }
   },
   "source": [
    "# Do more with Pipeline\n",
    "\n",
    "### What is Pipeline\n",
    "- Pipeline is a container of steps / sequences of actions : <b><font color=darkred>list of tuples</font></b>\n",
    "- What can be in the <b><font color=darkred>list of tuples</font></b>\n",
    "    - <code>Transformer</code>\n",
    "    - <code>Estimator</code>\n",
    "    - <code>FeatureUnion</code>\n",
    "    - more <code>Pipeline</code> !\n"
   ]
  },
  {
   "cell_type": "markdown",
   "metadata": {
    "slideshow": {
     "slide_type": "slide"
    }
   },
   "source": [
    "# Building Blocks of scikit-learn Pipeline \n",
    "<br>\n",
    "<img src=\"./images/block_of_legos.png\" >\n",
    "\n",
    "- Imagine each Transformer and Estimator is a piece of Lego, <code>Pipeline</code> make it possible to chain one block to another, <br><i><b>sending output of <code>block#1</code> as an input of<code>block#2</code></b></i>\n",
    "- <code>FeatureUnion</code> make it possible to aggregate output from multiple <code>Pipeline</code>\n",
    "\n"
   ]
  },
  {
   "cell_type": "markdown",
   "metadata": {
    "slideshow": {
     "slide_type": "fragment"
    }
   },
   "source": [
    "### <font color=darkred> Important Note </font>\n",
    "- Each block must have  <code>.fit, .transform </code> implemented\n",
    "- To create your own Customer Transformer, you need to inherit <code>BaseEstimator,TransformerMixin </code>\n",
    "    - <code>BaseEstimator</code> gives your transformer the <code>.fit_transform</code> method, for free.\n",
    "    - <code>TransformerMixin</code> gives your transformer grid-searchable parameters. "
   ]
  },
  {
   "cell_type": "code",
   "execution_count": 50,
   "metadata": {
    "slideshow": {
     "slide_type": "slide"
    }
   },
   "outputs": [],
   "source": [
    "from sklearn.base import TransformerMixin, BaseEstimator\n",
    "class MyTransformer(TransformerMixin, BaseEstimator):\n",
    "    '''A template for a custom transformer.'''\n",
    "\n",
    "    def __init__(self):\n",
    "        # this is where you can init internal variable\n",
    "        pass\n",
    "\n",
    "    def fit(self, X, y=None):\n",
    "        # this is what happend when .fit is invoked\n",
    "        return self\n",
    "\n",
    "    def transform(self, X):\n",
    "        # this is what happend when .tranform is invoked\n",
    "        return X"
   ]
  },
  {
   "cell_type": "markdown",
   "metadata": {
    "slideshow": {
     "slide_type": "slide"
    }
   },
   "source": [
    "### Example #2: Pipeline with <code> Transformer - StandandSacler</code>"
   ]
  },
  {
   "cell_type": "markdown",
   "metadata": {
    "slideshow": {
     "slide_type": "fragment"
    }
   },
   "source": [
    "<img src=\"./images/ex2.png\" >"
   ]
  },
  {
   "cell_type": "code",
   "execution_count": 51,
   "metadata": {
    "slideshow": {
     "slide_type": "fragment"
    }
   },
   "outputs": [
    {
     "data": {
      "text/plain": [
       "Pipeline(memory=None,\n",
       "     steps=[('std_scaler', StandardScaler(copy=True, with_mean=True, with_std=True))])"
      ]
     },
     "execution_count": 51,
     "metadata": {},
     "output_type": "execute_result"
    }
   ],
   "source": [
    "from sklearn.pipeline import Pipeline\n",
    "\n",
    "num_pipe = Pipeline([('std_scaler',StandardScaler())])\n",
    "num_pipe.fit(X_train[feat_num])"
   ]
  },
  {
   "cell_type": "markdown",
   "metadata": {
    "slideshow": {
     "slide_type": "fragment"
    }
   },
   "source": [
    "### <font color=darkred> One line transform !! </font>"
   ]
  },
  {
   "cell_type": "code",
   "execution_count": 52,
   "metadata": {
    "slideshow": {
     "slide_type": "fragment"
    }
   },
   "outputs": [],
   "source": [
    "X_test_num_scaled_new = num_pipe.transform(X_test[feat_num])"
   ]
  },
  {
   "cell_type": "code",
   "execution_count": 53,
   "metadata": {
    "slideshow": {
     "slide_type": "subslide"
    }
   },
   "outputs": [
    {
     "name": "stdout",
     "output_type": "stream",
     "text": [
      "Processed Test Data - numeric feature:\n",
      " [[-0.86910167 -0.20588081]\n",
      " [ 2.05904031  0.13339233]\n",
      " [-0.94447212 -0.15766552]]\n"
     ]
    }
   ],
   "source": [
    "#This is the exact number shown in Example #1\n",
    "print(\"Processed Test Data - numeric feature:\\n\",X_test_num_scaled_new[0:3])"
   ]
  },
  {
   "cell_type": "markdown",
   "metadata": {
    "slideshow": {
     "slide_type": "slide"
    }
   },
   "source": [
    "### Example #3: Pipeline with <code> Transformer - Imputer and MinMaxScaler</code>"
   ]
  },
  {
   "cell_type": "markdown",
   "metadata": {},
   "source": [
    "<img src=\"./images/ex3.png\" >"
   ]
  },
  {
   "cell_type": "code",
   "execution_count": 54,
   "metadata": {
    "slideshow": {
     "slide_type": "fragment"
    }
   },
   "outputs": [
    {
     "data": {
      "text/plain": [
       "Pipeline(memory=None,\n",
       "     steps=[('impute', SimpleImputer(copy=True, fill_value=None, missing_values=nan,\n",
       "       strategy='median', verbose=0)), ('minmax_scaler', MinMaxScaler(copy=True, feature_range=(0, 1)))])"
      ]
     },
     "execution_count": 54,
     "metadata": {},
     "output_type": "execute_result"
    }
   ],
   "source": [
    "from sklearn.impute import SimpleImputer\n",
    "from sklearn.preprocessing import MinMaxScaler\n",
    "\n",
    "num_pipe = Pipeline([('impute',SimpleImputer(strategy='median')),\n",
    "                     ('minmax_scaler',MinMaxScaler())])\n",
    "num_pipe.fit(X_train[feat_num])"
   ]
  },
  {
   "cell_type": "markdown",
   "metadata": {
    "slideshow": {
     "slide_type": "fragment"
    }
   },
   "source": [
    "### <font color=darkred> One line transform !! </font>"
   ]
  },
  {
   "cell_type": "code",
   "execution_count": 55,
   "metadata": {
    "slideshow": {
     "slide_type": "fragment"
    }
   },
   "outputs": [],
   "source": [
    "X_test_num_scaled_new = num_pipe.transform(X_test[feat_num])"
   ]
  },
  {
   "cell_type": "code",
   "execution_count": 56,
   "metadata": {
    "slideshow": {
     "slide_type": "subslide"
    }
   },
   "outputs": [
    {
     "name": "stdout",
     "output_type": "stream",
     "text": [
      "Processed Test Data - numeric feature:\n",
      " [[0.13828184 0.03325154]\n",
      " [0.43104748 0.05120942]\n",
      " [0.13074604 0.03580359]]\n"
     ]
    }
   ],
   "source": [
    "print(\"Processed Test Data - numeric feature:\\n\",X_test_num_scaled_new[0:3])"
   ]
  },
  {
   "cell_type": "markdown",
   "metadata": {
    "slideshow": {
     "slide_type": "slide"
    }
   },
   "source": [
    "### Example #4: Pipeline with <code> Transformer - StandardScaler , Estimator - LinearRegression</code>"
   ]
  },
  {
   "cell_type": "markdown",
   "metadata": {
    "slideshow": {
     "slide_type": "fragment"
    }
   },
   "source": [
    "<img src=\"./images/ex4.png\" >"
   ]
  },
  {
   "cell_type": "code",
   "execution_count": 57,
   "metadata": {
    "slideshow": {
     "slide_type": "fragment"
    }
   },
   "outputs": [
    {
     "name": "stdout",
     "output_type": "stream",
     "text": [
      "Model #1 :  Only 2 numeric features\n",
      "Intercept: 181312.6927592955\n",
      "Coefficient: [51684.07165803  6784.0654669 ]\n"
     ]
    }
   ],
   "source": [
    "num_pipe_model = Pipeline([('std_scaler',StandardScaler()),\n",
    "                           ('lr',LinearRegression())])\n",
    "num_pipe_model.fit(X_train[feat_num],y_train)\n",
    "\n",
    "print(\"Model #1 :  Only 2 numeric features\")\n",
    "print(\"Intercept:\",num_pipe_model.named_steps['lr'].intercept_)\n",
    "print(\"Coefficient:\", num_pipe_model.named_steps['lr'].coef_)"
   ]
  },
  {
   "cell_type": "markdown",
   "metadata": {
    "slideshow": {
     "slide_type": "fragment"
    }
   },
   "source": [
    "### <font color=darkred> One line predict !! </font>\n",
    "- When <code>.predict</code> of a Pipeline is invoked, <code>Pipeline</code> will invoke a chain of <code>.transform</code>, from the top; followed by <code>.predict</code> of the estimator  ."
   ]
  },
  {
   "cell_type": "code",
   "execution_count": 58,
   "metadata": {
    "slideshow": {
     "slide_type": "fragment"
    }
   },
   "outputs": [],
   "source": [
    "y_pred = num_pipe_model.predict(X_test[feat_num])"
   ]
  },
  {
   "cell_type": "code",
   "execution_count": 59,
   "metadata": {
    "slideshow": {
     "slide_type": "subslide"
    }
   },
   "outputs": [
    {
     "name": "stdout",
     "output_type": "stream",
     "text": [
      "The RMSE value is 55729.6255\n"
     ]
    }
   ],
   "source": [
    "#This is the exact number shown in Example #1 - Model #1\n",
    "rmse = np.sqrt(mean_squared_error(y_test, y_pred))\n",
    "print('The RMSE value is {:.4f}'.format(rmse))"
   ]
  },
  {
   "cell_type": "markdown",
   "metadata": {
    "slideshow": {
     "slide_type": "slide"
    }
   },
   "source": [
    "### Example #5: (1/3)Pipeline with <code>FeatureUnion and CustomTransformer</code>\n",
    "- Let's make it more dynamic, let's suppose we would like to select **any features for any transformers**\n",
    "- First, we define <code>MyFeatureExtractor</code>. "
   ]
  },
  {
   "cell_type": "code",
   "execution_count": 60,
   "metadata": {
    "slideshow": {
     "slide_type": "fragment"
    }
   },
   "outputs": [],
   "source": [
    "#Let's dictate what's going to happend when an object is instanciated, fit, transform\n",
    "class MyFeatureExtractor(TransformerMixin, BaseEstimator):\n",
    "    '''This customer tranformer extracts and returns specific feature.'''\n",
    "\n",
    "    def __init__(self,feature):\n",
    "        # init feature to extract\n",
    "        self.feature = feature\n",
    "\n",
    "    def fit(self, X, y=None):\n",
    "        # do nothing\n",
    "        return self\n",
    "\n",
    "    def transform(self, X):\n",
    "        # return a sub-seleted feature\n",
    "        return X[self.feature]"
   ]
  },
  {
   "cell_type": "markdown",
   "metadata": {
    "slideshow": {
     "slide_type": "slide"
    }
   },
   "source": [
    "### Example #5: (2/3) Configure columns to extract\n",
    "- <b>For flexibility reason</b>, it is recommended that you have a seperated configuration, apart from <code>Pipeline</code> construction. \n",
    "- Let's define feature to select, here.."
   ]
  },
  {
   "cell_type": "code",
   "execution_count": 61,
   "metadata": {
    "slideshow": {
     "slide_type": "fragment"
    }
   },
   "outputs": [],
   "source": [
    "COLS_1 = ['GrLivArea','LotArea','YearBuilt']\n",
    "COLS_2 = ['OverallQual','OverallCond']"
   ]
  },
  {
   "cell_type": "markdown",
   "metadata": {
    "slideshow": {
     "slide_type": "fragment"
    }
   },
   "source": [
    "### Example #5: (3/3) Construct a FeatureUnion Pipeline\n",
    "- Let's suppose we would like to..\n",
    "    - Standize <code>GrLivArea,LotArea,YearBuilt</code>\n",
    "    - MinMaxStandize <code>OverallQual,OverallCond</code>\n",
    "- Like Pipeline, FeatureUnion accepts <b><font color=darkred>list of tuples</font></b>"
   ]
  },
  {
   "cell_type": "code",
   "execution_count": 62,
   "metadata": {
    "slideshow": {
     "slide_type": "fragment"
    }
   },
   "outputs": [],
   "source": [
    "from sklearn.pipeline import FeatureUnion\n",
    "my_pipelines = FeatureUnion([('std',Pipeline([('cols1',MyFeatureExtractor(COLS_1)),\n",
    "                                              ('std',StandardScaler() )])  ),\n",
    "                             ('minmax',Pipeline([('cols2',MyFeatureExtractor(COLS_2)),\n",
    "                                                 ('minmax',MinMaxScaler() )]))])\n",
    "\n",
    "my_pipelines.fit(house_data)\n",
    "output = my_pipelines.transform(house_data)"
   ]
  },
  {
   "cell_type": "code",
   "execution_count": 63,
   "metadata": {
    "slideshow": {
     "slide_type": "subslide"
    }
   },
   "outputs": [
    {
     "name": "stdout",
     "output_type": "stream",
     "text": [
      "[[ 0.37033344 -0.20714171  1.05099379  0.66666667  0.5       ]\n",
      " [-0.48251191 -0.09188637  0.15673371  0.55555556  0.875     ]\n",
      " [ 0.51501256  0.07347998  0.9847523   0.66666667  0.5       ]]\n"
     ]
    }
   ],
   "source": [
    "print(output[0:3])"
   ]
  },
  {
   "cell_type": "markdown",
   "metadata": {
    "slideshow": {
     "slide_type": "slide"
    }
   },
   "source": [
    "### Example #6: Pipeline with <code>FeatureUnion + CustomTransformer + Estimator(Unsupervised)</code>\n",
    "- Note: Using whole dataset(house_data) for convenient"
   ]
  },
  {
   "cell_type": "code",
   "execution_count": 64,
   "metadata": {
    "slideshow": {
     "slide_type": "fragment"
    }
   },
   "outputs": [],
   "source": [
    "from sklearn.decomposition import PCA\n",
    "my_pipelines = Pipeline([('all_features',FeatureUnion([('std',Pipeline([('cols1',MyFeatureExtractor(COLS_1)),\n",
    "                                                                        ('std',StandardScaler() )])  ),\n",
    "                                                       ('minmax',Pipeline([('cols2',MyFeatureExtractor(COLS_2)),\n",
    "                                                                           ('minmax',MinMaxScaler() )]))])),\n",
    "                        ('pca',PCA(n_components=1))])\n",
    "my_pipelines.fit(house_data)\n",
    "output = my_pipelines.transform(house_data)"
   ]
  },
  {
   "cell_type": "markdown",
   "metadata": {
    "slideshow": {
     "slide_type": "fragment"
    }
   },
   "source": [
    "<img src=\"./images/ex6.png\" >"
   ]
  },
  {
   "cell_type": "code",
   "execution_count": 65,
   "metadata": {
    "slideshow": {
     "slide_type": "subslide"
    }
   },
   "outputs": [
    {
     "name": "stdout",
     "output_type": "stream",
     "text": [
      "[[ 0.62524055]\n",
      " [-0.32548857]\n",
      " [ 0.85136376]]\n"
     ]
    }
   ],
   "source": [
    "print(output[0:3])"
   ]
  },
  {
   "cell_type": "markdown",
   "metadata": {
    "slideshow": {
     "slide_type": "slide"
    }
   },
   "source": [
    "### Example #7: Pipeline with <code>FeatureUnion + CustomTransformer + Estimator(Supervised)</code>\n",
    "- Note: Using whole dataset(house_data) for convenient"
   ]
  },
  {
   "cell_type": "code",
   "execution_count": 66,
   "metadata": {
    "slideshow": {
     "slide_type": "fragment"
    }
   },
   "outputs": [
    {
     "name": "stdout",
     "output_type": "stream",
     "text": [
      "Intercept: 30700.076578751265\n",
      "Coefficient: [ 30767.04070259   9069.20690688  18380.68579621 219207.66268174\n",
      "  45496.2686746 ]\n"
     ]
    }
   ],
   "source": [
    "my_pipelines = Pipeline([('all_features',FeatureUnion([('std',Pipeline([('cols1',MyFeatureExtractor(COLS_1)),\n",
    "                                                                        ('std',StandardScaler() )])  ),\n",
    "                                                       ('minmax',Pipeline([('cols2',MyFeatureExtractor(COLS_2)),\n",
    "                                                                           ('minmax',MinMaxScaler() )]))])),\n",
    "                        ('lr',LinearRegression())])\n",
    "\n",
    "my_pipelines.fit(house_data,house_data['SalePrice'])\n",
    "\n",
    "print(\"Intercept:\",my_pipelines.named_steps['lr'].intercept_)\n",
    "print(\"Coefficient:\", my_pipelines.named_steps['lr'].coef_)\n",
    "\n",
    "output = my_pipelines.predict(house_data)"
   ]
  },
  {
   "cell_type": "markdown",
   "metadata": {
    "slideshow": {
     "slide_type": "fragment"
    }
   },
   "source": [
    "<img src=\"./images/ex7.png\" >"
   ]
  },
  {
   "cell_type": "code",
   "execution_count": 67,
   "metadata": {
    "slideshow": {
     "slide_type": "subslide"
    }
   },
   "outputs": [
    {
     "name": "stdout",
     "output_type": "stream",
     "text": [
      "   SalePrice      Predicted\n",
      "0     208500  228420.092302\n",
      "1     181500  179493.419346\n",
      "2     223500  234198.892926\n",
      "3     140000  176257.098269\n",
      "4     250000  284813.404491\n",
      "\n",
      "The RMSE value is 39318.4604\n"
     ]
    }
   ],
   "source": [
    "price_compare = pd.concat([house_data['SalePrice'],pd.DataFrame(output)],axis=1)\n",
    "price_compare.columns = ['SalePrice','Predicted']\n",
    "\n",
    "print(price_compare.head())\n",
    "rmse = np.sqrt(mean_squared_error(price_compare['SalePrice'], price_compare['Predicted']))\n",
    "print('\\nThe RMSE value is {:.4f}'.format(rmse))"
   ]
  },
  {
   "cell_type": "markdown",
   "metadata": {
    "slideshow": {
     "slide_type": "slide"
    }
   },
   "source": [
    "### Example #8: Pipeline with <code>FeatureUnion + CustomTransformer + Estimator(Supervised) + GridSearch</code>\n",
    "- Let's do GridSearch with Ridge Regression\n",
    "- Note: Using whole dataset(house_data) for convenient"
   ]
  },
  {
   "cell_type": "code",
   "execution_count": 68,
   "metadata": {
    "slideshow": {
     "slide_type": "fragment"
    }
   },
   "outputs": [
    {
     "name": "stdout",
     "output_type": "stream",
     "text": [
      "{'ridge__alpha': 0.01}\n"
     ]
    }
   ],
   "source": [
    "from sklearn.linear_model import Ridge\n",
    "from sklearn.model_selection import GridSearchCV\n",
    "\n",
    "my_pipelines = Pipeline([('all_features',FeatureUnion([('std',Pipeline([('cols1',MyFeatureExtractor(COLS_1)),\n",
    "                                                                        ('std',StandardScaler() )])  ),\n",
    "                                                       ('minmax',Pipeline([('cols2',MyFeatureExtractor(COLS_2)),\n",
    "                                                                           ('minmax',MinMaxScaler() )]))])),\n",
    "                        ('ridge',Ridge())])\n",
    "\n",
    "params = {'ridge__alpha': [1,0.1,0.01,0.001,0.0001,0]}\n",
    "grid = GridSearchCV(estimator=my_pipelines, param_grid=params)\n",
    "\n",
    "grid.fit(house_data,house_data['SalePrice'].values)\n",
    "print(grid.best_params_)"
   ]
  },
  {
   "cell_type": "markdown",
   "metadata": {
    "slideshow": {
     "slide_type": "slide"
    }
   },
   "source": [
    "### Example #9: Finally, publish your model \n",
    "- Note: Using whole dataset(house_data) for convenient"
   ]
  },
  {
   "cell_type": "code",
   "execution_count": 69,
   "metadata": {
    "slideshow": {
     "slide_type": "fragment"
    }
   },
   "outputs": [
    {
     "data": {
      "text/plain": [
       "['./output/final_pipelines.sav']"
      ]
     },
     "execution_count": 69,
     "metadata": {},
     "output_type": "execute_result"
    }
   ],
   "source": [
    "#Build the final model\n",
    "\n",
    "my_pipelines = Pipeline([('all_features',FeatureUnion([('std',Pipeline([('cols1',MyFeatureExtractor(COLS_1)),\n",
    "                                                                        ('std',StandardScaler() )])  ),\n",
    "                                                       ('minmax',Pipeline([('cols2',MyFeatureExtractor(COLS_2)),\n",
    "                                                                           ('minmax',MinMaxScaler() )]))])),\n",
    "                        ('ridge',Ridge(alpha=0.01))])\n",
    "my_pipelines.fit(house_data,house_data['SalePrice'])\n",
    "\n",
    "from sklearn.externals import joblib\n",
    "#Save file to disk\n",
    "joblib.dump(my_pipelines, './output/final_pipelines.sav')"
   ]
  },
  {
   "cell_type": "markdown",
   "metadata": {
    "slideshow": {
     "slide_type": "slide"
    }
   },
   "source": [
    "### Let's test it - with a completely new data"
   ]
  },
  {
   "cell_type": "code",
   "execution_count": 70,
   "metadata": {
    "slideshow": {
     "slide_type": "fragment"
    }
   },
   "outputs": [
    {
     "data": {
      "text/html": [
       "<div>\n",
       "<style scoped>\n",
       "    .dataframe tbody tr th:only-of-type {\n",
       "        vertical-align: middle;\n",
       "    }\n",
       "\n",
       "    .dataframe tbody tr th {\n",
       "        vertical-align: top;\n",
       "    }\n",
       "\n",
       "    .dataframe thead th {\n",
       "        text-align: right;\n",
       "    }\n",
       "</style>\n",
       "<table border=\"1\" class=\"dataframe\">\n",
       "  <thead>\n",
       "    <tr style=\"text-align: right;\">\n",
       "      <th></th>\n",
       "      <th>Id</th>\n",
       "      <th>MSSubClass</th>\n",
       "      <th>MSZoning</th>\n",
       "      <th>LotFrontage</th>\n",
       "      <th>LotArea</th>\n",
       "      <th>Street</th>\n",
       "      <th>Alley</th>\n",
       "      <th>LotShape</th>\n",
       "      <th>LandContour</th>\n",
       "      <th>Utilities</th>\n",
       "      <th>...</th>\n",
       "      <th>ScreenPorch</th>\n",
       "      <th>PoolArea</th>\n",
       "      <th>PoolQC</th>\n",
       "      <th>Fence</th>\n",
       "      <th>MiscFeature</th>\n",
       "      <th>MiscVal</th>\n",
       "      <th>MoSold</th>\n",
       "      <th>YrSold</th>\n",
       "      <th>SaleType</th>\n",
       "      <th>SaleCondition</th>\n",
       "    </tr>\n",
       "  </thead>\n",
       "  <tbody>\n",
       "    <tr>\n",
       "      <th>0</th>\n",
       "      <td>1461</td>\n",
       "      <td>20</td>\n",
       "      <td>RH</td>\n",
       "      <td>80.0</td>\n",
       "      <td>11622</td>\n",
       "      <td>Pave</td>\n",
       "      <td>NaN</td>\n",
       "      <td>Reg</td>\n",
       "      <td>Lvl</td>\n",
       "      <td>AllPub</td>\n",
       "      <td>...</td>\n",
       "      <td>120</td>\n",
       "      <td>0</td>\n",
       "      <td>NaN</td>\n",
       "      <td>MnPrv</td>\n",
       "      <td>NaN</td>\n",
       "      <td>0</td>\n",
       "      <td>6</td>\n",
       "      <td>2010</td>\n",
       "      <td>WD</td>\n",
       "      <td>Normal</td>\n",
       "    </tr>\n",
       "    <tr>\n",
       "      <th>1</th>\n",
       "      <td>1462</td>\n",
       "      <td>20</td>\n",
       "      <td>RL</td>\n",
       "      <td>81.0</td>\n",
       "      <td>14267</td>\n",
       "      <td>Pave</td>\n",
       "      <td>NaN</td>\n",
       "      <td>IR1</td>\n",
       "      <td>Lvl</td>\n",
       "      <td>AllPub</td>\n",
       "      <td>...</td>\n",
       "      <td>0</td>\n",
       "      <td>0</td>\n",
       "      <td>NaN</td>\n",
       "      <td>NaN</td>\n",
       "      <td>Gar2</td>\n",
       "      <td>12500</td>\n",
       "      <td>6</td>\n",
       "      <td>2010</td>\n",
       "      <td>WD</td>\n",
       "      <td>Normal</td>\n",
       "    </tr>\n",
       "    <tr>\n",
       "      <th>2</th>\n",
       "      <td>1463</td>\n",
       "      <td>60</td>\n",
       "      <td>RL</td>\n",
       "      <td>74.0</td>\n",
       "      <td>13830</td>\n",
       "      <td>Pave</td>\n",
       "      <td>NaN</td>\n",
       "      <td>IR1</td>\n",
       "      <td>Lvl</td>\n",
       "      <td>AllPub</td>\n",
       "      <td>...</td>\n",
       "      <td>0</td>\n",
       "      <td>0</td>\n",
       "      <td>NaN</td>\n",
       "      <td>MnPrv</td>\n",
       "      <td>NaN</td>\n",
       "      <td>0</td>\n",
       "      <td>3</td>\n",
       "      <td>2010</td>\n",
       "      <td>WD</td>\n",
       "      <td>Normal</td>\n",
       "    </tr>\n",
       "    <tr>\n",
       "      <th>3</th>\n",
       "      <td>1464</td>\n",
       "      <td>60</td>\n",
       "      <td>RL</td>\n",
       "      <td>78.0</td>\n",
       "      <td>9978</td>\n",
       "      <td>Pave</td>\n",
       "      <td>NaN</td>\n",
       "      <td>IR1</td>\n",
       "      <td>Lvl</td>\n",
       "      <td>AllPub</td>\n",
       "      <td>...</td>\n",
       "      <td>0</td>\n",
       "      <td>0</td>\n",
       "      <td>NaN</td>\n",
       "      <td>NaN</td>\n",
       "      <td>NaN</td>\n",
       "      <td>0</td>\n",
       "      <td>6</td>\n",
       "      <td>2010</td>\n",
       "      <td>WD</td>\n",
       "      <td>Normal</td>\n",
       "    </tr>\n",
       "    <tr>\n",
       "      <th>4</th>\n",
       "      <td>1465</td>\n",
       "      <td>120</td>\n",
       "      <td>RL</td>\n",
       "      <td>43.0</td>\n",
       "      <td>5005</td>\n",
       "      <td>Pave</td>\n",
       "      <td>NaN</td>\n",
       "      <td>IR1</td>\n",
       "      <td>HLS</td>\n",
       "      <td>AllPub</td>\n",
       "      <td>...</td>\n",
       "      <td>144</td>\n",
       "      <td>0</td>\n",
       "      <td>NaN</td>\n",
       "      <td>NaN</td>\n",
       "      <td>NaN</td>\n",
       "      <td>0</td>\n",
       "      <td>1</td>\n",
       "      <td>2010</td>\n",
       "      <td>WD</td>\n",
       "      <td>Normal</td>\n",
       "    </tr>\n",
       "  </tbody>\n",
       "</table>\n",
       "<p>5 rows × 80 columns</p>\n",
       "</div>"
      ],
      "text/plain": [
       "     Id  MSSubClass MSZoning  LotFrontage  LotArea Street Alley LotShape  \\\n",
       "0  1461          20       RH         80.0    11622   Pave   NaN      Reg   \n",
       "1  1462          20       RL         81.0    14267   Pave   NaN      IR1   \n",
       "2  1463          60       RL         74.0    13830   Pave   NaN      IR1   \n",
       "3  1464          60       RL         78.0     9978   Pave   NaN      IR1   \n",
       "4  1465         120       RL         43.0     5005   Pave   NaN      IR1   \n",
       "\n",
       "  LandContour Utilities      ...       ScreenPorch PoolArea PoolQC  Fence  \\\n",
       "0         Lvl    AllPub      ...               120        0    NaN  MnPrv   \n",
       "1         Lvl    AllPub      ...                 0        0    NaN    NaN   \n",
       "2         Lvl    AllPub      ...                 0        0    NaN  MnPrv   \n",
       "3         Lvl    AllPub      ...                 0        0    NaN    NaN   \n",
       "4         HLS    AllPub      ...               144        0    NaN    NaN   \n",
       "\n",
       "  MiscFeature MiscVal MoSold  YrSold  SaleType  SaleCondition  \n",
       "0         NaN       0      6    2010        WD         Normal  \n",
       "1        Gar2   12500      6    2010        WD         Normal  \n",
       "2         NaN       0      3    2010        WD         Normal  \n",
       "3         NaN       0      6    2010        WD         Normal  \n",
       "4         NaN       0      1    2010        WD         Normal  \n",
       "\n",
       "[5 rows x 80 columns]"
      ]
     },
     "execution_count": 70,
     "metadata": {},
     "output_type": "execute_result"
    }
   ],
   "source": [
    "house_test = pd.read_csv('./data/house_test.csv')\n",
    "house_test.head()"
   ]
  },
  {
   "cell_type": "code",
   "execution_count": 71,
   "metadata": {
    "slideshow": {
     "slide_type": "fragment"
    }
   },
   "outputs": [
    {
     "data": {
      "text/html": [
       "<div>\n",
       "<style scoped>\n",
       "    .dataframe tbody tr th:only-of-type {\n",
       "        vertical-align: middle;\n",
       "    }\n",
       "\n",
       "    .dataframe tbody tr th {\n",
       "        vertical-align: top;\n",
       "    }\n",
       "\n",
       "    .dataframe thead th {\n",
       "        text-align: right;\n",
       "    }\n",
       "</style>\n",
       "<table border=\"1\" class=\"dataframe\">\n",
       "  <thead>\n",
       "    <tr style=\"text-align: right;\">\n",
       "      <th></th>\n",
       "      <th>0</th>\n",
       "    </tr>\n",
       "  </thead>\n",
       "  <tbody>\n",
       "    <tr>\n",
       "      <th>0</th>\n",
       "      <td>115033.435059</td>\n",
       "    </tr>\n",
       "    <tr>\n",
       "      <th>1</th>\n",
       "      <td>165320.358111</td>\n",
       "    </tr>\n",
       "    <tr>\n",
       "      <th>2</th>\n",
       "      <td>176229.219949</td>\n",
       "    </tr>\n",
       "    <tr>\n",
       "      <th>3</th>\n",
       "      <td>201900.447941</td>\n",
       "    </tr>\n",
       "    <tr>\n",
       "      <th>4</th>\n",
       "      <td>217735.024974</td>\n",
       "    </tr>\n",
       "  </tbody>\n",
       "</table>\n",
       "</div>"
      ],
      "text/plain": [
       "               0\n",
       "0  115033.435059\n",
       "1  165320.358111\n",
       "2  176229.219949\n",
       "3  201900.447941\n",
       "4  217735.024974"
      ]
     },
     "execution_count": 71,
     "metadata": {},
     "output_type": "execute_result"
    }
   ],
   "source": [
    "loaded_pipelines = joblib.load('./output/final_pipelines.sav')\n",
    "predicted_prices = loaded_pipelines.predict(house_test)\n",
    "pd.DataFrame(predicted_prices).head()"
   ]
  },
  {
   "cell_type": "markdown",
   "metadata": {
    "slideshow": {
     "slide_type": "slide"
    }
   },
   "source": [
    "# Check-in\n",
    "\n",
    "- So far, we see the the ouput of Pipeline are in <code>numpy</code> format, what if we would like to stay in <code>pandas</code> land?\n",
    "- There isn't an example of <code>Pipeline[('le',LabelEncoder),('ohe',OneHotEncoder())]</code> here? <a href=\"https://github.com/scikit-learn/scikit-learn/issues/3956\">issues#3956</a>\n"
   ]
  },
  {
   "cell_type": "markdown",
   "metadata": {
    "slideshow": {
     "slide_type": "fragment"
    }
   },
   "source": [
    "# Solution to this - Custom Transformer, but let's not reinvent the wheels\n",
    "\n",
    "**Julie Michelman** - <a href=\"https://www.youtube.com/watch?v=BFaadIqWlAg\">PyCon 2016</a>\n",
    "\n",
    "Available Customer Transformers\n",
    "- DFImputer\n",
    "- DFStandardScaler\n",
    "- ZeroFillTransformer\n",
    "- Log1pTransformer\n",
    "- DateFormatter\n",
    "- DummyTransformer\n",
    "- MultiEncoder\n",
    "\n",
    "<b><i><font color=darkred>and lots more..<font></i></b>\n",
    "\n"
   ]
  },
  {
   "cell_type": "markdown",
   "metadata": {
    "slideshow": {
     "slide_type": "slide"
    }
   },
   "source": [
    "### Example #10:  Custom Transformers - DataFrame\n",
    "- First, let's take a look at mockup data"
   ]
  },
  {
   "cell_type": "code",
   "execution_count": 72,
   "metadata": {
    "slideshow": {
     "slide_type": "fragment"
    }
   },
   "outputs": [
    {
     "data": {
      "text/html": [
       "<div>\n",
       "<style scoped>\n",
       "    .dataframe tbody tr th:only-of-type {\n",
       "        vertical-align: middle;\n",
       "    }\n",
       "\n",
       "    .dataframe tbody tr th {\n",
       "        vertical-align: top;\n",
       "    }\n",
       "\n",
       "    .dataframe thead th {\n",
       "        text-align: right;\n",
       "    }\n",
       "</style>\n",
       "<table border=\"1\" class=\"dataframe\">\n",
       "  <thead>\n",
       "    <tr style=\"text-align: right;\">\n",
       "      <th></th>\n",
       "      <th>Target</th>\n",
       "      <th>R1</th>\n",
       "      <th>R2</th>\n",
       "      <th>R3</th>\n",
       "      <th>R4</th>\n",
       "      <th>Sex</th>\n",
       "      <th>SABal</th>\n",
       "      <th>CCBal</th>\n",
       "      <th>INVBal</th>\n",
       "      <th>Color</th>\n",
       "    </tr>\n",
       "  </thead>\n",
       "  <tbody>\n",
       "    <tr>\n",
       "      <th>0</th>\n",
       "      <td>0</td>\n",
       "      <td>1</td>\n",
       "      <td>1</td>\n",
       "      <td>0</td>\n",
       "      <td>1</td>\n",
       "      <td>F</td>\n",
       "      <td>99.706895</td>\n",
       "      <td>82.059339</td>\n",
       "      <td>452159</td>\n",
       "      <td>Red</td>\n",
       "    </tr>\n",
       "    <tr>\n",
       "      <th>1</th>\n",
       "      <td>0</td>\n",
       "      <td>0</td>\n",
       "      <td>1</td>\n",
       "      <td>0</td>\n",
       "      <td>0</td>\n",
       "      <td>M</td>\n",
       "      <td>29.143155</td>\n",
       "      <td>1.603093</td>\n",
       "      <td>309673</td>\n",
       "      <td>Blue</td>\n",
       "    </tr>\n",
       "    <tr>\n",
       "      <th>2</th>\n",
       "      <td>1</td>\n",
       "      <td>1</td>\n",
       "      <td>1</td>\n",
       "      <td>0</td>\n",
       "      <td>0</td>\n",
       "      <td>F</td>\n",
       "      <td>42.776849</td>\n",
       "      <td>72.755967</td>\n",
       "      <td>758389</td>\n",
       "      <td>Green</td>\n",
       "    </tr>\n",
       "    <tr>\n",
       "      <th>3</th>\n",
       "      <td>1</td>\n",
       "      <td>0</td>\n",
       "      <td>1</td>\n",
       "      <td>1</td>\n",
       "      <td>1</td>\n",
       "      <td>F</td>\n",
       "      <td>37.503063</td>\n",
       "      <td>86.014612</td>\n",
       "      <td>322604</td>\n",
       "      <td>Green</td>\n",
       "    </tr>\n",
       "    <tr>\n",
       "      <th>4</th>\n",
       "      <td>1</td>\n",
       "      <td>0</td>\n",
       "      <td>0</td>\n",
       "      <td>0</td>\n",
       "      <td>0</td>\n",
       "      <td>F</td>\n",
       "      <td>4.271746</td>\n",
       "      <td>92.688772</td>\n",
       "      <td>315713</td>\n",
       "      <td>Red</td>\n",
       "    </tr>\n",
       "  </tbody>\n",
       "</table>\n",
       "</div>"
      ],
      "text/plain": [
       "   Target  R1  R2  R3  R4 Sex      SABal      CCBal  INVBal  Color\n",
       "0       0   1   1   0   1   F  99.706895  82.059339  452159    Red\n",
       "1       0   0   1   0   0   M  29.143155   1.603093  309673   Blue\n",
       "2       1   1   1   0   0   F  42.776849  72.755967  758389  Green\n",
       "3       1   0   1   1   1   F  37.503063  86.014612  322604  Green\n",
       "4       1   0   0   0   0   F   4.271746  92.688772  315713    Red"
      ]
     },
     "execution_count": 72,
     "metadata": {},
     "output_type": "execute_result"
    }
   ],
   "source": [
    "mockup = pd.read_csv('./data/mockup_data.csv')\n",
    "mockup.head()"
   ]
  },
  {
   "cell_type": "markdown",
   "metadata": {
    "slideshow": {
     "slide_type": "slide"
    }
   },
   "source": [
    "### Let's check missing values"
   ]
  },
  {
   "cell_type": "code",
   "execution_count": 73,
   "metadata": {
    "slideshow": {
     "slide_type": "fragment"
    }
   },
   "outputs": [
    {
     "data": {
      "text/plain": [
       "Target    0\n",
       "R1        0\n",
       "R2        0\n",
       "R3        0\n",
       "R4        0\n",
       "Sex       0\n",
       "SABal     3\n",
       "CCBal     3\n",
       "INVBal    0\n",
       "Color     0\n",
       "dtype: int64"
      ]
     },
     "execution_count": 73,
     "metadata": {},
     "output_type": "execute_result"
    }
   ],
   "source": [
    "mockup.isnull().sum()"
   ]
  },
  {
   "cell_type": "markdown",
   "metadata": {
    "slideshow": {
     "slide_type": "slide"
    }
   },
   "source": [
    "### From what I saw above, here is what I would like to do\n",
    "- For categorical variables <code>Sex, Color</code>, create dummies\n",
    "- For numerric variables <code>SABal, CCBal,INVBal</code>, fill missing values with zeros and then take log1p\n",
    "- <font color=darkred><b>For business rules variable, do RIDITS transformation - Bross(1958)</b></font>\n",
    "\n",
    "Then, let's configure parameters here"
   ]
  },
  {
   "cell_type": "code",
   "execution_count": 74,
   "metadata": {
    "slideshow": {
     "slide_type": "fragment"
    }
   },
   "outputs": [],
   "source": [
    "feat_rules= ['R1','R2','R3','R4']\n",
    "feat_cats = ['Sex','Color']\n",
    "feat_nums = ['SABal','CCBal','INVBal']"
   ]
  },
  {
   "cell_type": "markdown",
   "metadata": {
    "slideshow": {
     "slide_type": "slide"
    }
   },
   "source": [
    "### Define a special transformer - RiditsTransformer\n",
    "- Please visit <a href=\"https://analytics.knowledgehub.ageas.com/posts/2005000-sas-python-by-example-anomaly-detection-with-pridit\">Knowledge Hub</a> for detailed explanation \n",
    "\n",
    "\n",
    "Or have a quick look at <a href=\"https://nbviewer.jupyter.org/github/swatakit/Python-Tools/blob/master/Anomaly%20Detection%20with%20PRIDIT%20-%20Python.ipynb\">RIDITS- Python</a>\n",
    "\n"
   ]
  },
  {
   "cell_type": "code",
   "execution_count": 75,
   "metadata": {
    "slideshow": {
     "slide_type": "subslide"
    }
   },
   "outputs": [],
   "source": [
    "class RiditsTransformer(TransformerMixin, BaseEstimator):\n",
    "    \"\"\"RIDITS tramsformation - Bross(1958)\"\"\"\n",
    "\n",
    "    def __init__(self):\n",
    "        #initialie dictionaries\n",
    "        self.dict_ridits_1 = {}\n",
    "        self.dict_ridits_0 = {}\n",
    "        pass\n",
    "        \n",
    "    def fit(self, X, y=None):\n",
    "        #for each feature,build rules\n",
    "        Xr =pd.DataFrame(X)\n",
    "        rules = Xr.columns\n",
    "        for rule in rules:\n",
    "            try:\n",
    "                r = Xr[rule].value_counts()\n",
    "                p_1 = r[1]/np.sum(r)\n",
    "                p_0 = r[0]/np.sum(r)\n",
    "                ridit_1 = (0.5 * p_1)\n",
    "                ridit_0 = (p_1+0.5*p_0)\n",
    "                self.dict_ridits_1.update({str(rule):ridit_1})\n",
    "                self.dict_ridits_0.update({str(rule):ridit_0})\n",
    "\n",
    "            except:\n",
    "                pass\n",
    "        \n",
    "        return self\n",
    "\n",
    "    def transform(self, X):\n",
    "        # transform X with fitted dictionary\n",
    "        Xr =pd.DataFrame(X)\n",
    "        rules = Xr.columns\n",
    "        for rule in rules:\n",
    "            try:\n",
    "                #replace 0,1 with ridits\n",
    "                if str(rule) in self.dict_ridits_1.keys():\n",
    "                    ridit_1 = self.dict_ridits_1.get(str(rule))\n",
    "                    ridit_0 = self.dict_ridits_0.get(str(rule))\n",
    "                    Xr[rule]=Xr[rule].map({1:ridit_1,0:ridit_0})\n",
    "            except :\n",
    "                pass\n",
    "\n",
    "        return Xr\n",
    "    "
   ]
  },
  {
   "cell_type": "code",
   "execution_count": 76,
   "metadata": {
    "slideshow": {
     "slide_type": "slide"
    }
   },
   "outputs": [],
   "source": [
    "from custom_transformers import (ColumnExtractor, DFStandardScaler, DFFeatureUnion, \n",
    "                                 DFImputer,DummyTransformer,ZeroFillTransformer,Log1pTransformer)\n",
    "\n",
    "pipeline = Pipeline([\n",
    "    ('features', DFFeatureUnion([\n",
    "        ('categoricals', Pipeline([\n",
    "            ('extract', ColumnExtractor(feat_cats)),\n",
    "            ('dummy', DummyTransformer())\n",
    "        ])),\n",
    "        ('numerics', Pipeline([\n",
    "            ('extract', ColumnExtractor(feat_nums)),\n",
    "            ('zero_fill', ZeroFillTransformer()),\n",
    "            ('log', Log1pTransformer())\n",
    "        ])),\n",
    "        ('ridits', Pipeline([\n",
    "            ('extract', ColumnExtractor(feat_rules)),\n",
    "            ('ridits', RiditsTransformer())\n",
    "        ]))\n",
    "    ]))\n",
    "])"
   ]
  },
  {
   "cell_type": "code",
   "execution_count": 77,
   "metadata": {
    "slideshow": {
     "slide_type": "fragment"
    }
   },
   "outputs": [
    {
     "data": {
      "text/html": [
       "<div>\n",
       "<style scoped>\n",
       "    .dataframe tbody tr th:only-of-type {\n",
       "        vertical-align: middle;\n",
       "    }\n",
       "\n",
       "    .dataframe tbody tr th {\n",
       "        vertical-align: top;\n",
       "    }\n",
       "\n",
       "    .dataframe thead th {\n",
       "        text-align: right;\n",
       "    }\n",
       "</style>\n",
       "<table border=\"1\" class=\"dataframe\">\n",
       "  <thead>\n",
       "    <tr style=\"text-align: right;\">\n",
       "      <th></th>\n",
       "      <th>Color=Amber</th>\n",
       "      <th>Color=Blue</th>\n",
       "      <th>Color=Green</th>\n",
       "      <th>Color=Red</th>\n",
       "      <th>Sex=F</th>\n",
       "      <th>Sex=M</th>\n",
       "      <th>SABal</th>\n",
       "      <th>CCBal</th>\n",
       "      <th>INVBal</th>\n",
       "      <th>R1</th>\n",
       "      <th>R2</th>\n",
       "      <th>R3</th>\n",
       "      <th>R4</th>\n",
       "    </tr>\n",
       "  </thead>\n",
       "  <tbody>\n",
       "    <tr>\n",
       "      <th>0</th>\n",
       "      <td>0.0</td>\n",
       "      <td>0.0</td>\n",
       "      <td>0.0</td>\n",
       "      <td>1.0</td>\n",
       "      <td>1.0</td>\n",
       "      <td>0.0</td>\n",
       "      <td>4.612214</td>\n",
       "      <td>4.419555</td>\n",
       "      <td>13.021791</td>\n",
       "      <td>0.166667</td>\n",
       "      <td>0.216667</td>\n",
       "      <td>0.683333</td>\n",
       "      <td>0.233333</td>\n",
       "    </tr>\n",
       "    <tr>\n",
       "      <th>1</th>\n",
       "      <td>0.0</td>\n",
       "      <td>1.0</td>\n",
       "      <td>0.0</td>\n",
       "      <td>0.0</td>\n",
       "      <td>0.0</td>\n",
       "      <td>1.0</td>\n",
       "      <td>3.405958</td>\n",
       "      <td>0.956700</td>\n",
       "      <td>12.643275</td>\n",
       "      <td>0.666667</td>\n",
       "      <td>0.216667</td>\n",
       "      <td>0.683333</td>\n",
       "      <td>0.733333</td>\n",
       "    </tr>\n",
       "    <tr>\n",
       "      <th>2</th>\n",
       "      <td>0.0</td>\n",
       "      <td>0.0</td>\n",
       "      <td>1.0</td>\n",
       "      <td>0.0</td>\n",
       "      <td>1.0</td>\n",
       "      <td>0.0</td>\n",
       "      <td>3.779105</td>\n",
       "      <td>4.300762</td>\n",
       "      <td>13.538953</td>\n",
       "      <td>0.166667</td>\n",
       "      <td>0.216667</td>\n",
       "      <td>0.683333</td>\n",
       "      <td>0.733333</td>\n",
       "    </tr>\n",
       "    <tr>\n",
       "      <th>3</th>\n",
       "      <td>0.0</td>\n",
       "      <td>0.0</td>\n",
       "      <td>1.0</td>\n",
       "      <td>0.0</td>\n",
       "      <td>1.0</td>\n",
       "      <td>0.0</td>\n",
       "      <td>3.650738</td>\n",
       "      <td>4.466076</td>\n",
       "      <td>12.684184</td>\n",
       "      <td>0.666667</td>\n",
       "      <td>0.216667</td>\n",
       "      <td>0.183333</td>\n",
       "      <td>0.233333</td>\n",
       "    </tr>\n",
       "    <tr>\n",
       "      <th>4</th>\n",
       "      <td>0.0</td>\n",
       "      <td>0.0</td>\n",
       "      <td>0.0</td>\n",
       "      <td>1.0</td>\n",
       "      <td>1.0</td>\n",
       "      <td>0.0</td>\n",
       "      <td>1.662362</td>\n",
       "      <td>4.539978</td>\n",
       "      <td>12.662592</td>\n",
       "      <td>0.666667</td>\n",
       "      <td>0.716667</td>\n",
       "      <td>0.683333</td>\n",
       "      <td>0.733333</td>\n",
       "    </tr>\n",
       "  </tbody>\n",
       "</table>\n",
       "</div>"
      ],
      "text/plain": [
       "   Color=Amber  Color=Blue  Color=Green  Color=Red  Sex=F  Sex=M     SABal  \\\n",
       "0          0.0         0.0          0.0        1.0    1.0    0.0  4.612214   \n",
       "1          0.0         1.0          0.0        0.0    0.0    1.0  3.405958   \n",
       "2          0.0         0.0          1.0        0.0    1.0    0.0  3.779105   \n",
       "3          0.0         0.0          1.0        0.0    1.0    0.0  3.650738   \n",
       "4          0.0         0.0          0.0        1.0    1.0    0.0  1.662362   \n",
       "\n",
       "      CCBal     INVBal        R1        R2        R3        R4  \n",
       "0  4.419555  13.021791  0.166667  0.216667  0.683333  0.233333  \n",
       "1  0.956700  12.643275  0.666667  0.216667  0.683333  0.733333  \n",
       "2  4.300762  13.538953  0.166667  0.216667  0.683333  0.733333  \n",
       "3  4.466076  12.684184  0.666667  0.216667  0.183333  0.233333  \n",
       "4  4.539978  12.662592  0.666667  0.716667  0.683333  0.733333  "
      ]
     },
     "execution_count": 77,
     "metadata": {},
     "output_type": "execute_result"
    }
   ],
   "source": [
    "pipeline.fit(mockup)\n",
    "mockup_trans = pipeline.transform(mockup)\n",
    "mockup_trans.head()"
   ]
  },
  {
   "cell_type": "markdown",
   "metadata": {
    "slideshow": {
     "slide_type": "slide"
    }
   },
   "source": [
    "### Now, let suppose we have acquired new data\n",
    "- <b><font color=#FF00FF>Take notice on the last observation</font></b>"
   ]
  },
  {
   "cell_type": "code",
   "execution_count": 78,
   "metadata": {
    "slideshow": {
     "slide_type": "fragment"
    }
   },
   "outputs": [
    {
     "data": {
      "text/html": [
       "<div>\n",
       "<style scoped>\n",
       "    .dataframe tbody tr th:only-of-type {\n",
       "        vertical-align: middle;\n",
       "    }\n",
       "\n",
       "    .dataframe tbody tr th {\n",
       "        vertical-align: top;\n",
       "    }\n",
       "\n",
       "    .dataframe thead th {\n",
       "        text-align: right;\n",
       "    }\n",
       "</style>\n",
       "<table border=\"1\" class=\"dataframe\">\n",
       "  <thead>\n",
       "    <tr style=\"text-align: right;\">\n",
       "      <th></th>\n",
       "      <th>R1</th>\n",
       "      <th>R2</th>\n",
       "      <th>R3</th>\n",
       "      <th>R4</th>\n",
       "      <th>Sex</th>\n",
       "      <th>SABal</th>\n",
       "      <th>CCBal</th>\n",
       "      <th>INVBal</th>\n",
       "      <th>Color</th>\n",
       "    </tr>\n",
       "  </thead>\n",
       "  <tbody>\n",
       "    <tr>\n",
       "      <th>0</th>\n",
       "      <td>1</td>\n",
       "      <td>1</td>\n",
       "      <td>0</td>\n",
       "      <td>1</td>\n",
       "      <td>F</td>\n",
       "      <td>99.706895</td>\n",
       "      <td>82.059339</td>\n",
       "      <td>452159</td>\n",
       "      <td>Red</td>\n",
       "    </tr>\n",
       "    <tr>\n",
       "      <th>1</th>\n",
       "      <td>0</td>\n",
       "      <td>1</td>\n",
       "      <td>0</td>\n",
       "      <td>0</td>\n",
       "      <td>M</td>\n",
       "      <td>29.143155</td>\n",
       "      <td>1.603093</td>\n",
       "      <td>309673</td>\n",
       "      <td>Blue</td>\n",
       "    </tr>\n",
       "    <tr>\n",
       "      <th>2</th>\n",
       "      <td>1</td>\n",
       "      <td>1</td>\n",
       "      <td>0</td>\n",
       "      <td>0</td>\n",
       "      <td>F</td>\n",
       "      <td>42.776849</td>\n",
       "      <td>72.755967</td>\n",
       "      <td>758389</td>\n",
       "      <td>Green</td>\n",
       "    </tr>\n",
       "    <tr>\n",
       "      <th>3</th>\n",
       "      <td>1</td>\n",
       "      <td>0</td>\n",
       "      <td>0</td>\n",
       "      <td>1</td>\n",
       "      <td>F</td>\n",
       "      <td>43.430000</td>\n",
       "      <td>23.034000</td>\n",
       "      <td>234234</td>\n",
       "      <td>Pink</td>\n",
       "    </tr>\n",
       "  </tbody>\n",
       "</table>\n",
       "</div>"
      ],
      "text/plain": [
       "   R1  R2  R3  R4 Sex      SABal      CCBal  INVBal  Color\n",
       "0   1   1   0   1   F  99.706895  82.059339  452159    Red\n",
       "1   0   1   0   0   M  29.143155   1.603093  309673   Blue\n",
       "2   1   1   0   0   F  42.776849  72.755967  758389  Green\n",
       "3   1   0   0   1   F  43.430000  23.034000  234234   Pink"
      ]
     },
     "execution_count": 78,
     "metadata": {},
     "output_type": "execute_result"
    }
   ],
   "source": [
    "mockup_new = pd.read_csv('./data/mockup_new.csv')\n",
    "mockup_new"
   ]
  },
  {
   "cell_type": "code",
   "execution_count": 79,
   "metadata": {
    "slideshow": {
     "slide_type": "fragment"
    }
   },
   "outputs": [
    {
     "data": {
      "text/html": [
       "<div>\n",
       "<style scoped>\n",
       "    .dataframe tbody tr th:only-of-type {\n",
       "        vertical-align: middle;\n",
       "    }\n",
       "\n",
       "    .dataframe tbody tr th {\n",
       "        vertical-align: top;\n",
       "    }\n",
       "\n",
       "    .dataframe thead th {\n",
       "        text-align: right;\n",
       "    }\n",
       "</style>\n",
       "<table border=\"1\" class=\"dataframe\">\n",
       "  <thead>\n",
       "    <tr style=\"text-align: right;\">\n",
       "      <th></th>\n",
       "      <th>Color=Amber</th>\n",
       "      <th>Color=Blue</th>\n",
       "      <th>Color=Green</th>\n",
       "      <th>Color=Red</th>\n",
       "      <th>Sex=F</th>\n",
       "      <th>Sex=M</th>\n",
       "      <th>SABal</th>\n",
       "      <th>CCBal</th>\n",
       "      <th>INVBal</th>\n",
       "      <th>R1</th>\n",
       "      <th>R2</th>\n",
       "      <th>R3</th>\n",
       "      <th>R4</th>\n",
       "    </tr>\n",
       "  </thead>\n",
       "  <tbody>\n",
       "    <tr>\n",
       "      <th>0</th>\n",
       "      <td>0.0</td>\n",
       "      <td>0.0</td>\n",
       "      <td>0.0</td>\n",
       "      <td>1.0</td>\n",
       "      <td>1.0</td>\n",
       "      <td>0.0</td>\n",
       "      <td>4.612214</td>\n",
       "      <td>4.419555</td>\n",
       "      <td>13.021791</td>\n",
       "      <td>0.166667</td>\n",
       "      <td>0.216667</td>\n",
       "      <td>0.683333</td>\n",
       "      <td>0.233333</td>\n",
       "    </tr>\n",
       "    <tr>\n",
       "      <th>1</th>\n",
       "      <td>0.0</td>\n",
       "      <td>1.0</td>\n",
       "      <td>0.0</td>\n",
       "      <td>0.0</td>\n",
       "      <td>0.0</td>\n",
       "      <td>1.0</td>\n",
       "      <td>3.405958</td>\n",
       "      <td>0.956700</td>\n",
       "      <td>12.643275</td>\n",
       "      <td>0.666667</td>\n",
       "      <td>0.216667</td>\n",
       "      <td>0.683333</td>\n",
       "      <td>0.733333</td>\n",
       "    </tr>\n",
       "    <tr>\n",
       "      <th>2</th>\n",
       "      <td>0.0</td>\n",
       "      <td>0.0</td>\n",
       "      <td>1.0</td>\n",
       "      <td>0.0</td>\n",
       "      <td>1.0</td>\n",
       "      <td>0.0</td>\n",
       "      <td>3.779105</td>\n",
       "      <td>4.300762</td>\n",
       "      <td>13.538953</td>\n",
       "      <td>0.166667</td>\n",
       "      <td>0.216667</td>\n",
       "      <td>0.683333</td>\n",
       "      <td>0.733333</td>\n",
       "    </tr>\n",
       "    <tr>\n",
       "      <th>3</th>\n",
       "      <td>0.0</td>\n",
       "      <td>0.0</td>\n",
       "      <td>0.0</td>\n",
       "      <td>0.0</td>\n",
       "      <td>1.0</td>\n",
       "      <td>0.0</td>\n",
       "      <td>3.793915</td>\n",
       "      <td>3.179469</td>\n",
       "      <td>12.364080</td>\n",
       "      <td>0.166667</td>\n",
       "      <td>0.716667</td>\n",
       "      <td>0.683333</td>\n",
       "      <td>0.233333</td>\n",
       "    </tr>\n",
       "  </tbody>\n",
       "</table>\n",
       "</div>"
      ],
      "text/plain": [
       "   Color=Amber  Color=Blue  Color=Green  Color=Red  Sex=F  Sex=M     SABal  \\\n",
       "0          0.0         0.0          0.0        1.0    1.0    0.0  4.612214   \n",
       "1          0.0         1.0          0.0        0.0    0.0    1.0  3.405958   \n",
       "2          0.0         0.0          1.0        0.0    1.0    0.0  3.779105   \n",
       "3          0.0         0.0          0.0        0.0    1.0    0.0  3.793915   \n",
       "\n",
       "      CCBal     INVBal        R1        R2        R3        R4  \n",
       "0  4.419555  13.021791  0.166667  0.216667  0.683333  0.233333  \n",
       "1  0.956700  12.643275  0.666667  0.216667  0.683333  0.733333  \n",
       "2  4.300762  13.538953  0.166667  0.216667  0.683333  0.733333  \n",
       "3  3.179469  12.364080  0.166667  0.716667  0.683333  0.233333  "
      ]
     },
     "execution_count": 79,
     "metadata": {},
     "output_type": "execute_result"
    }
   ],
   "source": [
    "mockup_new_trans = pipeline.transform(mockup_new)\n",
    "mockup_new_trans"
   ]
  },
  {
   "cell_type": "markdown",
   "metadata": {
    "slideshow": {
     "slide_type": "slide"
    }
   },
   "source": [
    "### Example #11:  Custom Transformers - DataFrame + Logistic Regression(<code>.predict</code>)\n",
    "- Let's add Logistic regression into it\n",
    "- Again, using the whole sample(mockup) just for convenient"
   ]
  },
  {
   "cell_type": "code",
   "execution_count": 80,
   "metadata": {
    "slideshow": {
     "slide_type": "fragment"
    }
   },
   "outputs": [],
   "source": [
    "from sklearn.linear_model import LogisticRegression\n",
    "\n",
    "pipeline_logreg = Pipeline([\n",
    "    ('features', DFFeatureUnion([\n",
    "        ('categoricals', Pipeline([\n",
    "            ('extract', ColumnExtractor(feat_cats)),\n",
    "            ('dummy', DummyTransformer())\n",
    "        ])),\n",
    "        ('numerics', Pipeline([\n",
    "            ('extract', ColumnExtractor(feat_nums)),\n",
    "            ('zero_fill', ZeroFillTransformer()),\n",
    "            ('log', Log1pTransformer())\n",
    "        ])),\n",
    "        ('ridits', Pipeline([\n",
    "            ('extract', ColumnExtractor(feat_rules)),\n",
    "            ('ridits', RiditsTransformer())\n",
    "        ]))\n",
    "    ])),\n",
    "    ('logreg',LogisticRegression(solver='liblinear'))\n",
    "])"
   ]
  },
  {
   "cell_type": "code",
   "execution_count": 81,
   "metadata": {
    "slideshow": {
     "slide_type": "fragment"
    }
   },
   "outputs": [
    {
     "data": {
      "text/plain": [
       "array([0, 0, 0, 0, 1, 0, 0, 0, 0, 0, 0, 0, 0, 0, 0, 0, 0, 0, 0, 0, 0, 1,\n",
       "       0, 0, 0, 0, 0, 0, 0, 0], dtype=int64)"
      ]
     },
     "execution_count": 81,
     "metadata": {},
     "output_type": "execute_result"
    }
   ],
   "source": [
    "pipeline_logreg.fit(mockup,mockup['Target'])\n",
    "y_pred = pipeline_logreg.predict(mockup)\n",
    "y_pred"
   ]
  },
  {
   "cell_type": "markdown",
   "metadata": {
    "slideshow": {
     "slide_type": "slide"
    }
   },
   "source": [
    "### Example #12:  Custom Transformers - DataFrame + Logistic Regression(<code>.predict_proba</code>)\n",
    "- Suppose, we would like to have probability, instead of 0,1\n",
    "- We need to improvise by having a model wrapper"
   ]
  },
  {
   "cell_type": "code",
   "execution_count": 82,
   "metadata": {
    "slideshow": {
     "slide_type": "fragment"
    }
   },
   "outputs": [],
   "source": [
    "class ModelTransformer(TransformerMixin, BaseEstimator):\n",
    "    '''model.predict_proba'''\n",
    "\n",
    "    def __init__(self,model):\n",
    "        self.model = model\n",
    "\n",
    "    def fit(self,*args, **kwargs):\n",
    "        #expecting X, and y\n",
    "        self.model.fit(*args, **kwargs)\n",
    "        return self\n",
    "\n",
    "    def transform(self,X,**transform_params):\n",
    "        return pd.DataFrame(self.model.predict_proba(X))"
   ]
  },
  {
   "cell_type": "code",
   "execution_count": 83,
   "metadata": {
    "slideshow": {
     "slide_type": "slide"
    }
   },
   "outputs": [],
   "source": [
    "pipeline_logreg_proba = Pipeline([\n",
    "    ('features', DFFeatureUnion([\n",
    "        ('categoricals', Pipeline([\n",
    "            ('extract', ColumnExtractor(feat_cats)),\n",
    "            ('dummy', DummyTransformer())\n",
    "        ])),\n",
    "        ('numerics', Pipeline([\n",
    "            ('extract', ColumnExtractor(feat_nums)),\n",
    "            ('zero_fill', ZeroFillTransformer()),\n",
    "            ('log', Log1pTransformer())\n",
    "        ])),\n",
    "        ('ridits', Pipeline([\n",
    "            ('extract', ColumnExtractor(feat_rules)),\n",
    "            ('ridits', RiditsTransformer())\n",
    "        ]))\n",
    "    ])),\n",
    "    ('logreg',ModelTransformer(LogisticRegression(solver='liblinear')))\n",
    "])"
   ]
  },
  {
   "cell_type": "code",
   "execution_count": 84,
   "metadata": {
    "slideshow": {
     "slide_type": "fragment"
    }
   },
   "outputs": [
    {
     "data": {
      "text/html": [
       "<div>\n",
       "<style scoped>\n",
       "    .dataframe tbody tr th:only-of-type {\n",
       "        vertical-align: middle;\n",
       "    }\n",
       "\n",
       "    .dataframe tbody tr th {\n",
       "        vertical-align: top;\n",
       "    }\n",
       "\n",
       "    .dataframe thead th {\n",
       "        text-align: right;\n",
       "    }\n",
       "</style>\n",
       "<table border=\"1\" class=\"dataframe\">\n",
       "  <thead>\n",
       "    <tr style=\"text-align: right;\">\n",
       "      <th></th>\n",
       "      <th>0</th>\n",
       "      <th>1</th>\n",
       "    </tr>\n",
       "  </thead>\n",
       "  <tbody>\n",
       "    <tr>\n",
       "      <th>0</th>\n",
       "      <td>0.531571</td>\n",
       "      <td>0.468429</td>\n",
       "    </tr>\n",
       "    <tr>\n",
       "      <th>1</th>\n",
       "      <td>0.798716</td>\n",
       "      <td>0.201284</td>\n",
       "    </tr>\n",
       "    <tr>\n",
       "      <th>2</th>\n",
       "      <td>0.584693</td>\n",
       "      <td>0.415307</td>\n",
       "    </tr>\n",
       "    <tr>\n",
       "      <th>3</th>\n",
       "      <td>0.568776</td>\n",
       "      <td>0.431224</td>\n",
       "    </tr>\n",
       "    <tr>\n",
       "      <th>4</th>\n",
       "      <td>0.429483</td>\n",
       "      <td>0.570517</td>\n",
       "    </tr>\n",
       "  </tbody>\n",
       "</table>\n",
       "</div>"
      ],
      "text/plain": [
       "          0         1\n",
       "0  0.531571  0.468429\n",
       "1  0.798716  0.201284\n",
       "2  0.584693  0.415307\n",
       "3  0.568776  0.431224\n",
       "4  0.429483  0.570517"
      ]
     },
     "execution_count": 84,
     "metadata": {},
     "output_type": "execute_result"
    }
   ],
   "source": [
    "pipeline_logreg_proba.fit(mockup,mockup['Target'])\n",
    "y_pred_proba = pipeline_logreg_proba.transform(mockup)\n",
    "y_pred_proba.head()"
   ]
  },
  {
   "cell_type": "markdown",
   "metadata": {
    "slideshow": {
     "slide_type": "slide"
    }
   },
   "source": [
    "# <font color=darkred>Bonus: A complete 2-class classification report</font>"
   ]
  },
  {
   "cell_type": "code",
   "execution_count": 85,
   "metadata": {
    "slideshow": {
     "slide_type": "slide"
    }
   },
   "outputs": [
    {
     "data": {
      "text/plain": [
       "LogisticRegression(C=1.0, class_weight='balanced', dual=False,\n",
       "          fit_intercept=True, intercept_scaling=1, max_iter=100,\n",
       "          multi_class='warn', n_jobs=None, penalty='l2', random_state=None,\n",
       "          solver='liblinear', tol=0.0001, verbose=0, warm_start=False)"
      ]
     },
     "execution_count": 85,
     "metadata": {},
     "output_type": "execute_result"
    }
   ],
   "source": [
    "y = mockup['Target']\n",
    "X = mockup_trans\n",
    "\n",
    "X_train, X_test, y_train, y_test = train_test_split(X, y, test_size=0.2, random_state=1234, stratify=y)\n",
    "\n",
    "model = LogisticRegression(solver='liblinear', class_weight='balanced')\n",
    "model.fit(X_train,y_train)"
   ]
  },
  {
   "cell_type": "code",
   "execution_count": 87,
   "metadata": {
    "slideshow": {
     "slide_type": "fragment"
    }
   },
   "outputs": [
    {
     "name": "stdout",
     "output_type": "stream",
     "text": [
      "Accuracy:66.67%\n",
      "Precision:50.00%\n",
      "Recall:50.00%\n",
      "Fscore:50.00%\n",
      "Average precision:41.67%\n"
     ]
    },
    {
     "data": {
      "image/png": "[encoded data removed]",
      "text/plain": [
       "<Figure size 1440x216 with 4 Axes>"
      ]
     },
     "metadata": {},
     "output_type": "display_data"
    }
   ],
   "source": [
    "from custom_functions import print_classification_performance2class_report\n",
    "\n",
    "acc,pc,rc,fs,ap,roc_auc,gini = print_classification_performance2class_report(model,X_test,y_test)"
   ]
  },
  {
   "cell_type": "markdown",
   "metadata": {
    "slideshow": {
     "slide_type": "fragment"
    }
   },
   "source": [
    "The metrics can be put all together, for model comparison - <a href=\"https://nbviewer.jupyter.org/github/swatakit/The-public-and-private-life-of-Big-Data/blob/master/StockSentimentIndex.ipynb\"> Example</a>"
   ]
  },
  {
   "cell_type": "markdown",
   "metadata": {
    "slideshow": {
     "slide_type": "slide"
    }
   },
   "source": [
    "<img src=\"./images/ml_workflow.png\" >\n",
    "\n",
    "# Conclusion, why Pipeline?\n",
    "\n",
    "- Short, neat, clean codes\n",
    "- Data Cleasing/Feature Engineering heaven! \n",
    "- Reusable, GridSearch-able, Serializable\n",
    "- Easy to create your own customer transformers\n"
   ]
  },
  {
   "cell_type": "markdown",
   "metadata": {
    "slideshow": {
     "slide_type": "slide"
    }
   },
   "source": [
    "<img src=\"./images/thankyou.png\" >"
   ]
  }
 ],
 "metadata": {
  "celltoolbar": "Slideshow",
  "kernelspec": {
   "display_name": "Python 3",
   "language": "python",
   "name": "python3"
  },
  "language_info": {
   "codemirror_mode": {
    "name": "ipython",
    "version": 3
   },
   "file_extension": ".py",
   "mimetype": "text/x-python",
   "name": "python",
   "nbconvert_exporter": "python",
   "pygments_lexer": "ipython3",
   "version": "3.6.4"
  },
  "varInspector": {
   "cols": {
    "lenName": 16,
    "lenType": 16,
    "lenVar": 40
   },
   "kernels_config": {
    "python": {
     "delete_cmd_postfix": "",
     "delete_cmd_prefix": "del ",
     "library": "var_list.py",
     "varRefreshCmd": "print(var_dic_list())"
    },
    "r": {
     "delete_cmd_postfix": ") ",
     "delete_cmd_prefix": "rm(",
     "library": "var_list.r",
     "varRefreshCmd": "cat(var_dic_list()) "
    }
   },
   "types_to_exclude": [
    "module",
    "function",
    "builtin_function_or_method",
    "instance",
    "_Feature"
   ],
   "window_display": false
  }
 },
 "nbformat": 4,
 "nbformat_minor": 2
}
